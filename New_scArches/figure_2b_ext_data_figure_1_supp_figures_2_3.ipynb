{
 "cells": [
  {
   "cell_type": "code",
   "execution_count": null,
   "id": "collectible-independence",
   "metadata": {},
   "outputs": [],
   "source": [
    "import scanpy as sc\n",
    "import scarches as sca\n",
    "import numpy as np\n",
    "import pandas as pd\n",
    "from scarches.plotting.terms_scores import plot_abs_bfs_key"
   ]
  },
  {
   "cell_type": "code",
   "execution_count": null,
   "id": "meaning-alfred",
   "metadata": {},
   "outputs": [],
   "source": [
    "sc.set_figure_params(figsize=(6, 6))\n",
    "import matplotlib.pyplot as plt\n",
    "import matplotlib\n",
    "import seaborn as sb\n",
    "\n",
    "font = {'family' : 'Arial',\n",
    "        'size'   : 14}\n",
    "\n",
    "matplotlib.rc('font', **font)\n",
    "matplotlib.rc('ytick', labelsize=14)\n",
    "matplotlib.rc('xtick', labelsize=14)\n",
    "matplotlib.rcParams[\"figure.dpi\"] = 200"
   ]
  },
  {
   "cell_type": "markdown",
   "id": "fundamental-instruction",
   "metadata": {},
   "source": [
    "### Pbmc Kang"
   ]
  },
  {
   "cell_type": "code",
   "execution_count": null,
   "id": "turkish-arthur",
   "metadata": {},
   "outputs": [],
   "source": [
    "adata = sc.read('kang_pbmc_integrated.h5ad')"
   ]
  },
  {
   "cell_type": "code",
   "execution_count": null,
   "id": "characteristic-gasoline",
   "metadata": {},
   "outputs": [],
   "source": [
    "adata.obs['condition_merged'] = adata.obs['condition'].tolist()\n",
    "adata.obs['condition_merged'][adata.obs['condition_merged'].astype(str)=='nan'] = 'control'\n",
    "adata.strings_to_categoricals()"
   ]
  },
  {
   "cell_type": "code",
   "execution_count": null,
   "id": "julian-logic",
   "metadata": {},
   "outputs": [],
   "source": [
    "intr_cvae = sca.models.EXPIMAP.load('q_intr_cvae_nolog_alpha_kl_0_5_0_1_sd_2020', adata)"
   ]
  },
  {
   "cell_type": "code",
   "execution_count": null,
   "id": "biblical-interaction",
   "metadata": {},
   "outputs": [],
   "source": [
    "directions = intr_cvae.latent_directions(method=\"sum\")"
   ]
  },
  {
   "cell_type": "code",
   "execution_count": null,
   "id": "e9aee5b5",
   "metadata": {},
   "outputs": [],
   "source": [
    "directions = adata.uns['directions']"
   ]
  },
  {
   "cell_type": "code",
   "execution_count": null,
   "id": "combined-subscription",
   "metadata": {},
   "outputs": [],
   "source": [
    "# adata.obsm['X_cvae'] *= directions[intr_cvae.model.decoder.nonzero_terms()]\n",
    "adata.obsm['X_cvae'] *= directions[intr_cvae.nonzero_terms()]\n",
    "\n"
   ]
  },
  {
   "cell_type": "code",
   "execution_count": null,
   "id": "8c7eadcf",
   "metadata": {},
   "outputs": [],
   "source": []
  },
  {
   "cell_type": "code",
   "execution_count": null,
   "id": "e5cf2470",
   "metadata": {},
   "outputs": [],
   "source": [
    "print(intr_cvae.latent_enrich)"
   ]
  },
  {
   "cell_type": "code",
   "execution_count": null,
   "id": "commercial-victor",
   "metadata": {},
   "outputs": [],
   "source": [
    "scores_cond = intr_cvae.latent_enrich('condition_merged', comparison=\"control\", directions_key=directions, adata=adata, n_sample=50000, exact=True)"
   ]
  },
  {
   "cell_type": "code",
   "execution_count": null,
   "id": "dbc376f4",
   "metadata": {},
   "outputs": [],
   "source": [
    "# scores_cond = adata.uns['bf_scores']"
   ]
  },
  {
   "cell_type": "code",
   "execution_count": null,
   "id": "prompt-audit",
   "metadata": {},
   "outputs": [],
   "source": [
    "adata_ctrl = adata[adata.obs.condition_merged == 'control'].copy()"
   ]
  },
  {
   "cell_type": "code",
   "execution_count": null,
   "id": "retained-alfred",
   "metadata": {},
   "outputs": [],
   "source": [
    "scores_ct = intr_cvae.latent_enrich('cell_type_joint', directions_key=directions, n_sample=50000, adata=adata_ctrl, exact=True)"
   ]
  },
  {
   "cell_type": "code",
   "execution_count": null,
   "id": "debb7e16",
   "metadata": {},
   "outputs": [],
   "source": [
    "print(type(scores_cond))\n"
   ]
  },
  {
   "cell_type": "code",
   "execution_count": null,
   "id": "ca19a08d",
   "metadata": {},
   "outputs": [],
   "source": [
    "scores_ct = adata.uns['bf_scores']"
   ]
  },
  {
   "cell_type": "code",
   "execution_count": null,
   "id": "1802d6dc",
   "metadata": {},
   "outputs": [],
   "source": [
    "print(adata.uns.keys())\n"
   ]
  },
  {
   "cell_type": "code",
   "execution_count": null,
   "id": "yellow-generic",
   "metadata": {},
   "outputs": [],
   "source": [
    "# plot one key\n",
    "fig = sca.plotting.plot_abs_bfs(adata,terms= np.array([term[:58] for term in adata.uns['terms']]), keys='stimulated', yt_step=1, fontsize=8, scale_y=2)"
   ]
  },
  {
   "cell_type": "code",
   "execution_count": null,
   "id": "injured-relationship",
   "metadata": {},
   "outputs": [],
   "source": [
    "fig.savefig('pbmc_kang_overall_ranks.png', bbox_inches = \"tight\")"
   ]
  },
  {
   "cell_type": "code",
   "execution_count": null,
   "id": "thrown-butterfly",
   "metadata": {},
   "outputs": [],
   "source": [
    "# plot all keys\n",
    "fig = sca.plotting.plot_abs_bfs(adata, terms=np.array([term[:45] for term in adata.uns['directions']]), n_cols=6, scale_y=2.6, yt_step=0.6)"
   ]
  },
  {
   "cell_type": "code",
   "execution_count": null,
   "id": "bronze-exemption",
   "metadata": {},
   "outputs": [],
   "source": [
    "fig.set_size_inches(40, 24)"
   ]
  },
  {
   "cell_type": "code",
   "execution_count": null,
   "id": "turkish-howard",
   "metadata": {},
   "outputs": [],
   "source": [
    "fig"
   ]
  },
  {
   "cell_type": "code",
   "execution_count": null,
   "id": "automatic-vintage",
   "metadata": {},
   "outputs": [],
   "source": [
    "fig.savefig('pbmc_kang_overall_ranks_all.png', bbox_inches = \"tight\")"
   ]
  },
  {
   "cell_type": "code",
   "execution_count": null,
   "id": "thirty-solution",
   "metadata": {},
   "outputs": [],
   "source": [
    "terms_idx = sc.read('kang_pbmc_merged.h5ad').uns['terms']"
   ]
  },
  {
   "cell_type": "code",
   "execution_count": null,
   "id": "ecological-racing",
   "metadata": {},
   "outputs": [],
   "source": [
    "df = pd.DataFrame(index=terms_idx)"
   ]
  },
  {
   "cell_type": "code",
   "execution_count": null,
   "id": "illegal-concrete",
   "metadata": {},
   "outputs": [],
   "source": [
    "df['go_size'] = np.array(intr_cvae.mask_).T.sum(0)"
   ]
  },
  {
   "cell_type": "code",
   "execution_count": null,
   "id": "spanish-month",
   "metadata": {},
   "outputs": [],
   "source": [
    "df['stimulated'] = scores_cond['stimulated']['bf']"
   ]
  },
  {
   "cell_type": "code",
   "execution_count": null,
   "id": "advance-qualification",
   "metadata": {},
   "outputs": [],
   "source": [
    "for ct in scores_ct:\n",
    "    df[ct] = scores_ct[ct]['bf']"
   ]
  },
  {
   "cell_type": "code",
   "execution_count": null,
   "id": "indian-triangle",
   "metadata": {},
   "outputs": [],
   "source": [
    "query_ct = adata.obs.cell_type_joint[adata.obs.batch_join == 'Kang (query)'].unique()"
   ]
  },
  {
   "cell_type": "code",
   "execution_count": null,
   "id": "otherwise-heart",
   "metadata": {},
   "outputs": [],
   "source": [
    "scores_ct_q = {k: v for k, v in scores_ct.items() if k in query_ct}"
   ]
  },
  {
   "cell_type": "code",
   "execution_count": null,
   "id": "essential-shell",
   "metadata": {},
   "outputs": [],
   "source": [
    "fig = sca.plotting.plot_abs_bfs(scores_ct_q, np.array([term[:45] for term in adata.uns['full_terms']]), n_cols=4, scale_y=4.4, yt_step=0.6)"
   ]
  },
  {
   "cell_type": "code",
   "execution_count": null,
   "id": "minus-father",
   "metadata": {},
   "outputs": [],
   "source": [
    "fig.set_size_inches(20, 12)"
   ]
  },
  {
   "cell_type": "code",
   "execution_count": null,
   "id": "hired-scoop",
   "metadata": {},
   "outputs": [],
   "source": [
    "fig"
   ]
  },
  {
   "cell_type": "code",
   "execution_count": null,
   "id": "handmade-germany",
   "metadata": {},
   "outputs": [],
   "source": [
    "# get genes' names for terms\n",
    "intr_cvae.terms_genes()['APOPTOTIC_CLEAVAGE_OF_CELLULAR']"
   ]
  },
  {
   "cell_type": "code",
   "execution_count": null,
   "id": "prospective-portuguese",
   "metadata": {},
   "outputs": [],
   "source": [
    "fig, axs = plt.subplots(2, 4)"
   ]
  },
  {
   "cell_type": "code",
   "execution_count": null,
   "id": "located-swing",
   "metadata": {},
   "outputs": [],
   "source": [
    "terms = np.array([term[:54] for term in adata.uns['full_terms']])\n",
    "for i, cat in enumerate(adata.obs.cell_type_joint[adata.obs.batch_join == 'Kang (query)'].unique()):\n",
    "    adata_ct = adata[adata.obs.cell_type_joint == cat]\n",
    "    scores_c_ct = intr_cvae.latent_enrich('condition_merged', comparison=\"control\", directions=directions, adata=adata_ct, n_perm=50000, exact=True)\n",
    "    df[f'{cat}_stimulated'] = scores_c_ct['stimulated']['bf']\n",
    "    plot_abs_bfs_key(scores_c_ct, terms, 'stimulated', title=cat, ax=axs[i//4, i%4], yt_step=1, scale_y=2.45)"
   ]
  },
  {
   "cell_type": "code",
   "execution_count": null,
   "id": "responsible-athletics",
   "metadata": {},
   "outputs": [],
   "source": [
    "fig.set_size_inches(21, 13)"
   ]
  },
  {
   "cell_type": "code",
   "execution_count": null,
   "id": "bigger-substitute",
   "metadata": {},
   "outputs": [],
   "source": [
    "fig"
   ]
  },
  {
   "cell_type": "code",
   "execution_count": null,
   "id": "driven-racing",
   "metadata": {},
   "outputs": [],
   "source": [
    "fig.savefig('pbmc_kang_ct_cond.png', bbox_inches = \"tight\")"
   ]
  },
  {
   "cell_type": "code",
   "execution_count": null,
   "id": "particular-friendly",
   "metadata": {},
   "outputs": [],
   "source": [
    "df.to_csv('expimap_bayes_factors.csv')"
   ]
  },
  {
   "cell_type": "code",
   "execution_count": null,
   "id": "uniform-confusion",
   "metadata": {},
   "outputs": [],
   "source": []
  }
 ],
 "metadata": {
  "kernelspec": {
   "display_name": ".venv",
   "language": "python",
   "name": "python3"
  },
  "language_info": {
   "codemirror_mode": {
    "name": "ipython",
    "version": 3
   },
   "file_extension": ".py",
   "mimetype": "text/x-python",
   "name": "python",
   "nbconvert_exporter": "python",
   "pygments_lexer": "ipython3",
   "version": "3.11.5"
  }
 },
 "nbformat": 4,
 "nbformat_minor": 5
}
