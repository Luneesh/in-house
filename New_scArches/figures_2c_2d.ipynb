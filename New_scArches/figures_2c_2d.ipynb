{
 "cells": [
  {
   "cell_type": "code",
   "execution_count": null,
   "id": "collectible-independence",
   "metadata": {},
   "outputs": [],
   "source": [
    "import scanpy as sc\n",
    "import scarches as sca\n",
    "import numpy as np"
   ]
  },
  {
   "cell_type": "code",
   "execution_count": null,
   "id": "undefined-simpson",
   "metadata": {},
   "outputs": [],
   "source": [
    "sc.set_figure_params(vector_friendly=True)"
   ]
  },
  {
   "cell_type": "code",
   "execution_count": null,
   "id": "loving-indonesia",
   "metadata": {},
   "outputs": [],
   "source": [
    "import matplotlib.pyplot as plt\n",
    "import matplotlib\n",
    "plt.rcParams[\"axes.grid\"] = False\n",
    "plt.rcParams[\"figure.dpi\"] = 140\n",
    "font = {'family' : 'Arial',\n",
    "        'size'   : 14}\n",
    "\n",
    "matplotlib.rc('font', **font)\n",
    "matplotlib.rc('ytick', labelsize=14)\n",
    "matplotlib.rc('xtick', labelsize=14)"
   ]
  },
  {
   "cell_type": "code",
   "execution_count": null,
   "id": "incorporate-genome",
   "metadata": {},
   "outputs": [],
   "source": [
    "def filter_set_scores(scores, adata, filter_v=2.31):\n",
    "    for k in scores:\n",
    "        print(k)\n",
    "        mask = np.abs(scores[k]['bf']) > filter_v\n",
    "        s = sum(mask)\n",
    "        if s > 0:\n",
    "            sort = np.argsort(np.abs(scores[k]['bf'])[mask])[::-1]\n",
    "            enriched_terms = adata.uns['terms'][mask][sort]\n",
    "            \n",
    "            print(enriched_terms)\n",
    "            print(scores[k]['bf'][mask][sort])\n",
    "            \n",
    "            for term in enriched_terms:\n",
    "                adata.obs[term] = adata.obsm['X_cvae'][:, adata.uns['active_terms'] == term]"
   ]
  },
  {
   "cell_type": "markdown",
   "id": "fundamental-instruction",
   "metadata": {},
   "source": [
    "### Pbmc Kang"
   ]
  },
  {
   "cell_type": "code",
   "execution_count": null,
   "id": "turkish-arthur",
   "metadata": {},
   "outputs": [],
   "source": [
    "adata = sc.read('kang_pbmc_integrated.h5ad')"
   ]
  },
  {
   "cell_type": "code",
   "execution_count": null,
   "id": "characteristic-gasoline",
   "metadata": {},
   "outputs": [],
   "source": [
    "adata.obs['condition_merged'] = adata.obs['condition'].tolist()\n",
    "adata.obs['condition_merged'][adata.obs['condition_merged'].astype(str)=='nan'] = 'control'\n",
    "adata.strings_to_categoricals()\n",
    "\n",
    "adata.obs.batch_join = adata.obs.batch_join.astype(str)\n",
    "adata.obs.batch_join[adata.obs.batch_join=='0'] = 'PBMC (reference)'\n",
    "adata.obs.batch_join[adata.obs.batch_join=='1'] = 'Kang (query)'\n",
    "\n",
    "adata.obs['condition_joint'] = adata.obs.condition.astype(str)\n",
    "adata.obs['condition_joint'][adata.obs['condition_joint'].astype(str)=='nan']='control (reference)'\n",
    "adata.obs['condition_joint'][adata.obs['condition_joint']=='control']='control (query)'\n",
    "adata.obs['condition_joint'][adata.obs['condition_joint']=='stimulated']='stimulated (query)'"
   ]
  },
  {
   "cell_type": "code",
   "execution_count": null,
   "id": "julian-logic",
   "metadata": {},
   "outputs": [],
   "source": [
    "intr_cvae = sca.models.EXPIMAP.load('q_intr_cvae_nolog_alpha_kl_0_5_0_1_sd_2020', adata)"
   ]
  },
  {
   "cell_type": "code",
   "execution_count": null,
   "id": "composed-cleaner",
   "metadata": {},
   "outputs": [],
   "source": [
    "adata.uns['active_terms'] = adata.uns['terms'][intr_cvae.model.decoder.nonzero_terms()]"
   ]
  },
  {
   "cell_type": "code",
   "execution_count": null,
   "id": "biblical-interaction",
   "metadata": {},
   "outputs": [],
   "source": [
    "directions = intr_cvae.latent_directions(method=\"sum\")"
   ]
  },
  {
   "cell_type": "code",
   "execution_count": null,
   "id": "b60669d0",
   "metadata": {},
   "outputs": [],
   "source": [
    "directions = adata.uns['directions']\n"
   ]
  },
  {
   "cell_type": "code",
   "execution_count": null,
   "id": "combined-subscription",
   "metadata": {},
   "outputs": [],
   "source": [
    "print(directions)\n",
    "\n",
    "adata.obsm['X_cvae'] *= directions[intr_cvae.nonzero_terms()]\n"
   ]
  },
  {
   "cell_type": "code",
   "execution_count": null,
   "id": "desperate-yeast",
   "metadata": {},
   "outputs": [],
   "source": []
  },
  {
   "cell_type": "code",
   "execution_count": null,
   "id": "commercial-victor",
   "metadata": {},
   "outputs": [],
   "source": [
    "scores_cond = intr_cvae.latent_enrich('condition_merged', comparison=\"control\", directions_key=directions, adata=adata)"
   ]
  },
  {
   "cell_type": "code",
   "execution_count": null,
   "id": "1e2a368f",
   "metadata": {},
   "outputs": [],
   "source": [
    "scores_cond = adata.uns['bf_scores']"
   ]
  },
  {
   "cell_type": "code",
   "execution_count": null,
   "id": "genuine-literature",
   "metadata": {},
   "outputs": [],
   "source": [
    "filter_set_scores(scores_cond, adata, filter_v=0.5)"
   ]
  },
  {
   "cell_type": "code",
   "execution_count": null,
   "id": "impressive-medium",
   "metadata": {},
   "outputs": [],
   "source": [
    "adata.obs['INTERFERON_ALPHA_BETA_SIGNALING'] = adata.obs['INTERFERON_ALPHA_BETA_SIGNALIN']"
   ]
  },
  {
   "cell_type": "code",
   "execution_count": null,
   "id": "forbidden-hours",
   "metadata": {},
   "outputs": [],
   "source": [
    "sc.pl.scatter(adata, x='INTERFERON_ALPHA_BETA_SIGNALING', y='INTERFERON_SIGNALING', \n",
    "              color='condition_joint', size=10, title='Condition', \n",
    "              groups=['control (reference)', 'control (query)', 'stimulated (query)'],\n",
    "              save='_pbmc_kang_interferon.png', palette=['steelblue', 'skyblue', 'red'])"
   ]
  },
  {
   "cell_type": "code",
   "execution_count": null,
   "id": "retained-alfred",
   "metadata": {},
   "outputs": [],
   "source": [
    "scores_ct = intr_cvae.latent_enrich('cell_type_joint', directions_key=directions, n_sample=7000, adata=adata)"
   ]
  },
  {
   "cell_type": "code",
   "execution_count": null,
   "id": "38472056",
   "metadata": {},
   "outputs": [],
   "source": [
    "scores_ct = adata.uns['bf_scores']"
   ]
  },
  {
   "cell_type": "code",
   "execution_count": null,
   "id": "variable-beatles",
   "metadata": {},
   "outputs": [],
   "source": [
    "filter_set_scores(scores_ct, adata, filter_v=1.5)"
   ]
  },
  {
   "cell_type": "code",
   "execution_count": null,
   "id": "dependent-affair",
   "metadata": {},
   "outputs": [],
   "source": [
    "for cat in adata.obs.cell_type_joint[adata.obs.batch_join == 'Kang (query)'].unique():\n",
    "    print(cat)\n",
    "    adata_ct = adata[adata.obs.cell_type_joint == cat]\n",
    "    scores_c_ct = intr_cvae.latent_enrich('condition_merged', comparison=\"control\", directions_key=directions, adata=adata_ct)\n",
    "    scores_c_ct = adata.uns['bf_scores']\n",
    "    filter_set_scores(scores_c_ct, adata)"
   ]
  },
  {
   "cell_type": "code",
   "execution_count": null,
   "id": "defensive-response",
   "metadata": {},
   "outputs": [],
   "source": [
    "sc.pl.scatter(adata, x='NUCLEOTIDE_BINDING_DOMAIN_LEUC', y='FACTORS_INVOLVED_IN_MEGAKARYOC', \n",
    "              size=22)"
   ]
  },
  {
   "cell_type": "code",
   "execution_count": null,
   "id": "designed-divorce",
   "metadata": {},
   "outputs": [],
   "source": [
    "adata.obs.cell_type_joint[adata.obs.batch_join == 'Kang (query)'].unique()"
   ]
  },
  {
   "cell_type": "code",
   "execution_count": null,
   "id": "shared-beauty",
   "metadata": {},
   "outputs": [],
   "source": [
    "adata.obs.cell_type_joint.cat.categories"
   ]
  },
  {
   "cell_type": "markdown",
   "id": "bound-house",
   "metadata": {},
   "source": [
    "### Figure"
   ]
  },
  {
   "cell_type": "code",
   "execution_count": null,
   "id": "liquid-crossing",
   "metadata": {},
   "outputs": [],
   "source": [
    "matplotlib.rcParams['axes.labelsize'] = 15.7"
   ]
  },
  {
   "cell_type": "code",
   "execution_count": null,
   "id": "present-transcription",
   "metadata": {},
   "outputs": [],
   "source": [
    "condition = 'condition_joint'\n",
    "condition_loc = 'lower left'\n",
    "groups = ['control (reference)', 'control (query)', 'stimulated (query)']\n",
    "size = 10\n",
    "palette=['steelblue', 'skyblue', 'red']"
   ]
  },
  {
   "cell_type": "code",
   "execution_count": null,
   "id": "tropical-dynamics",
   "metadata": {},
   "outputs": [],
   "source": [
    "fig, axs = plt.subplots(5, 3)"
   ]
  },
  {
   "cell_type": "code",
   "execution_count": null,
   "id": "equipped-disco",
   "metadata": {},
   "outputs": [],
   "source": [
    "adata.obs['MHC_CLASS_II_ANTIGEN_PRESENTATION'] = adata.obs['MHC_CLASS_II_ANTIGEN_PRESENTAT']\n",
    "adata.obs['SIGNALING_BY_THE_B_CELL_RECEPTOR_BCR'] = adata.obs['SIGNALING_BY_THE_B_CELL_RECEPT']"
   ]
  },
  {
   "cell_type": "code",
   "execution_count": null,
   "id": "biblical-moderator",
   "metadata": {},
   "outputs": [],
   "source": [
    "cell_mask = ~np.in1d(adata.obs['cell_type_joint'],['B', 'CD10+ B cells'])"
   ]
  },
  {
   "cell_type": "code",
   "execution_count": null,
   "id": "secondary-singapore",
   "metadata": {},
   "outputs": [],
   "source": [
    "adata.obs['cell_type_b'] = adata.obs['cell_type_joint'].astype('O')\n",
    "adata.obs['cell_type_b'][cell_mask] = 'others'"
   ]
  },
  {
   "cell_type": "code",
   "execution_count": null,
   "id": "recognized-baking",
   "metadata": {},
   "outputs": [],
   "source": [
    "sc.pl.scatter(adata, x='MHC_CLASS_II_ANTIGEN_PRESENTATION', y='SIGNALING_BY_THE_B_CELL_RECEPTOR_BCR', \n",
    "              color='cell_type_b')"
   ]
  },
  {
   "cell_type": "code",
   "execution_count": null,
   "id": "infrared-victoria",
   "metadata": {},
   "outputs": [],
   "source": [
    "for i, cat in enumerate(adata.obs['cell_type_b'].cat.categories):\n",
    "    if cat=='others':\n",
    "        adata.uns['cell_type_b_colors'][i] = 'gray'\n",
    "    else:\n",
    "        idx = adata.obs['cell_type_joint'].cat.categories == cat\n",
    "        adata.uns['cell_type_b_colors'][i] = np.array(adata.uns['cell_type_joint_colors'])[idx][0]"
   ]
  },
  {
   "cell_type": "code",
   "execution_count": null,
   "id": "fallen-pastor",
   "metadata": {},
   "outputs": [],
   "source": [
    "sc.pl.scatter(adata, x='SIGNALING_BY_THE_B_CELL_RECEPTOR_BCR', y='MHC_CLASS_II_ANTIGEN_PRESENTATION', \n",
    "              color='cell_type_b', size=size, title='B cells', legend_loc='lower left', ax=axs[0,0],\n",
    "              groups=['others', 'B', 'CD10+ B cells'])"
   ]
  },
  {
   "cell_type": "code",
   "execution_count": null,
   "id": "conceptual-injection",
   "metadata": {},
   "outputs": [],
   "source": [
    "sc.pl.scatter(adata, x='SIGNALING_BY_THE_B_CELL_RECEPTOR_BCR', y='INTERFERON_SIGNALING', \n",
    "              color='cell_type_b', size=size, title='B cells', legend_loc='lower left', ax=axs[0,1],\n",
    "              groups=['others', 'B', 'CD10+ B cells'])"
   ]
  },
  {
   "cell_type": "code",
   "execution_count": null,
   "id": "expected-engineering",
   "metadata": {},
   "outputs": [],
   "source": [
    "sc.pl.scatter(adata, x='SIGNALING_BY_THE_B_CELL_RECEPTOR_BCR', y='INTERFERON_SIGNALING', \n",
    "              color=condition, size=size, title='B cells condition', legend_loc=condition_loc, groups=groups, ax=axs[0,2], \n",
    "              palette=palette)"
   ]
  },
  {
   "cell_type": "code",
   "execution_count": null,
   "id": "serious-reduction",
   "metadata": {},
   "outputs": [],
   "source": [
    "fig.set_size_inches(25, 28)"
   ]
  },
  {
   "cell_type": "code",
   "execution_count": null,
   "id": "virgin-arizona",
   "metadata": {},
   "outputs": [],
   "source": [
    "fig.tight_layout() "
   ]
  },
  {
   "cell_type": "code",
   "execution_count": null,
   "id": "arctic-intro",
   "metadata": {},
   "outputs": [],
   "source": [
    "fig"
   ]
  },
  {
   "cell_type": "code",
   "execution_count": null,
   "id": "daily-nomination",
   "metadata": {},
   "outputs": [],
   "source": [
    "adata.obs['METABOLISM_OF_LIPIDS_AND_LIPOPROTEINS'] = adata.obs['METABOLISM_OF_LIPIDS_AND_LIPOP']\n",
    "adata.obs['METABOLISM_OF_AMINO_ACIDS_AND_DERIVATIVES'] = adata.obs['METABOLISM_OF_AMINO_ACIDS_AND_']\n",
    "adata.obs['IMMUNOREGULATORY_INTERACTIONS_LYMPHOID_-_NON_LYMPHOID_CELL'] = adata.obs['IMMUNOREGULATORY_INTERACTIONS_']\n",
    "adata.obs['PLATELET_ACTIVATION_SIGNALING_AND_AGGREGATION'] = adata.obs['PLATELET_ACTIVATION_SIGNALING_']"
   ]
  },
  {
   "cell_type": "code",
   "execution_count": null,
   "id": "governmental-apparatus",
   "metadata": {},
   "outputs": [],
   "source": [
    "cell_mask = ~np.in1d(adata.obs['cell_type_joint'],['CD16+ Monocytes', 'CD14+ Monocytes'])"
   ]
  },
  {
   "cell_type": "code",
   "execution_count": null,
   "id": "wanted-demand",
   "metadata": {},
   "outputs": [],
   "source": [
    "adata.obs['cell_type_m'] = adata.obs['cell_type_joint'].astype('O')\n",
    "adata.obs['cell_type_m'][cell_mask] = 'others'"
   ]
  },
  {
   "cell_type": "code",
   "execution_count": null,
   "id": "naughty-ceremony",
   "metadata": {},
   "outputs": [],
   "source": [
    "sc.pl.scatter(adata, x='METABOLISM_OF_LIPIDS_AND_LIPOPROTEINS', y='METABOLISM_OF_AMINO_ACIDS_AND_DERIVATIVES', \n",
    "              color='cell_type_m')"
   ]
  },
  {
   "cell_type": "code",
   "execution_count": null,
   "id": "upper-arcade",
   "metadata": {},
   "outputs": [],
   "source": [
    "for i, cat in enumerate(adata.obs['cell_type_m'].cat.categories):\n",
    "    if cat=='others':\n",
    "        adata.uns['cell_type_m_colors'][i] = 'gray'\n",
    "    else:\n",
    "        idx = adata.obs['cell_type_joint'].cat.categories == cat\n",
    "        adata.uns['cell_type_m_colors'][i] = np.array(adata.uns['cell_type_joint_colors'])[idx][0]"
   ]
  },
  {
   "cell_type": "code",
   "execution_count": null,
   "id": "polish-dutch",
   "metadata": {},
   "outputs": [],
   "source": [
    "sc.pl.scatter(adata, x='METABOLISM_OF_LIPIDS_AND_LIPOPROTEINS', y='PLATELET_ACTIVATION_SIGNALING_AND_AGGREGATION', \n",
    "              color='cell_type_m', size=size, title='Monocytes', legend_loc='lower left', ax=axs[1,0],\n",
    "              groups=['others', 'CD14+ Monocytes', 'CD16+ Monocytes'])"
   ]
  },
  {
   "cell_type": "code",
   "execution_count": null,
   "id": "western-youth",
   "metadata": {},
   "outputs": [],
   "source": [
    "sc.pl.scatter(adata, x='METABOLISM_OF_LIPIDS_AND_LIPOPROTEINS', y='INTERFERON_SIGNALING', \n",
    "              color='cell_type_m', size=size, title='Monocytes', legend_loc='lower left', ax=axs[1,1],\n",
    "              groups=['others', 'CD14+ Monocytes', 'CD16+ Monocytes'])"
   ]
  },
  {
   "cell_type": "code",
   "execution_count": null,
   "id": "about-africa",
   "metadata": {},
   "outputs": [],
   "source": [
    "sc.pl.scatter(adata, x='METABOLISM_OF_LIPIDS_AND_LIPOPROTEINS', y='INTERFERON_SIGNALING', \n",
    "              color=condition, size=size, title='Monocytes condition', legend_loc=condition_loc, groups=groups, ax=axs[1,2],\n",
    "              palette=palette)"
   ]
  },
  {
   "cell_type": "code",
   "execution_count": null,
   "id": "facial-republican",
   "metadata": {},
   "outputs": [],
   "source": [
    "fig"
   ]
  },
  {
   "cell_type": "code",
   "execution_count": null,
   "id": "palestinian-conjunction",
   "metadata": {},
   "outputs": [],
   "source": [
    "cell_mask = ~np.in1d(adata.obs['cell_type_joint'],['Monocyte-derived dendritic cells', 'DC'])"
   ]
  },
  {
   "cell_type": "code",
   "execution_count": null,
   "id": "liquid-donna",
   "metadata": {},
   "outputs": [],
   "source": [
    "adata.obs['cell_type_d'] = adata.obs['cell_type_joint'].astype('O')\n",
    "adata.obs['cell_type_d'][cell_mask] = 'others'"
   ]
  },
  {
   "cell_type": "code",
   "execution_count": null,
   "id": "capital-representative",
   "metadata": {},
   "outputs": [],
   "source": [
    "sc.pl.scatter(adata, x='MHC_CLASS_II_ANTIGEN_PRESENTATION', y='AMYLOIDS', color='cell_type_d')"
   ]
  },
  {
   "cell_type": "code",
   "execution_count": null,
   "id": "external-elizabeth",
   "metadata": {},
   "outputs": [],
   "source": [
    "for i, cat in enumerate(adata.obs['cell_type_d'].cat.categories):\n",
    "    if cat=='others':\n",
    "        adata.uns['cell_type_d_colors'][i] = 'gray'\n",
    "    else:\n",
    "        idx = adata.obs['cell_type_joint'].cat.categories == cat\n",
    "        adata.uns['cell_type_d_colors'][i] = np.array(adata.uns['cell_type_joint_colors'])[idx][0]"
   ]
  },
  {
   "cell_type": "code",
   "execution_count": null,
   "id": "communist-brown",
   "metadata": {},
   "outputs": [],
   "source": [
    "sc.pl.scatter(adata, x='MHC_CLASS_II_ANTIGEN_PRESENTATION', y='AMYLOIDS', \n",
    "              color='cell_type_d', size=size, title='Dendritic cells', legend_loc='lower right', ax=axs[2,0],\n",
    "              groups=['others', 'DC', 'Monocyte-derived dendritic cells'])"
   ]
  },
  {
   "cell_type": "code",
   "execution_count": null,
   "id": "covered-capture",
   "metadata": {},
   "outputs": [],
   "source": [
    "sc.pl.scatter(adata, x='MHC_CLASS_II_ANTIGEN_PRESENTATION', y='INTERFERON_SIGNALING', \n",
    "              color='cell_type_d', size=size, title='Dendritic cells', legend_loc='lower right', ax=axs[2,1],\n",
    "              groups=['others', 'DC', 'Monocyte-derived dendritic cells'])"
   ]
  },
  {
   "cell_type": "code",
   "execution_count": null,
   "id": "indoor-induction",
   "metadata": {},
   "outputs": [],
   "source": [
    "sc.pl.scatter(adata, x='MHC_CLASS_II_ANTIGEN_PRESENTATION', y='INTERFERON_SIGNALING', \n",
    "              color=condition, size=size, title='Dendritic cells condition', legend_loc=condition_loc, groups=groups, ax=axs[2,2],\n",
    "              palette=palette)"
   ]
  },
  {
   "cell_type": "code",
   "execution_count": null,
   "id": "applied-jumping",
   "metadata": {},
   "outputs": [],
   "source": [
    "fig"
   ]
  },
  {
   "cell_type": "code",
   "execution_count": null,
   "id": "amateur-promise",
   "metadata": {},
   "outputs": [],
   "source": [
    "cell_mask = ~np.in1d(adata.obs['cell_type_joint'],['CD4+ T cells', 'CD8+ T cells', 'T', 'NKT cells'])"
   ]
  },
  {
   "cell_type": "code",
   "execution_count": null,
   "id": "featured-conflict",
   "metadata": {},
   "outputs": [],
   "source": [
    "adata.obs['cell_type_t'] = adata.obs['cell_type_joint'].astype('O')\n",
    "adata.obs['cell_type_t'][cell_mask] = 'others'"
   ]
  },
  {
   "cell_type": "code",
   "execution_count": null,
   "id": "closing-shareware",
   "metadata": {},
   "outputs": [],
   "source": [
    "sc.pl.scatter(adata, x='ADAPTIVE_IMMUNE_SYSTEM', y='SIGNALING_BY_GPCR', \n",
    "              color='cell_type_t', groups=['others', 'CD4+ T cells', 'NKT cells', 'CD8+ T cells', 'T'])"
   ]
  },
  {
   "cell_type": "code",
   "execution_count": null,
   "id": "indonesian-average",
   "metadata": {},
   "outputs": [],
   "source": [
    "for i, cat in enumerate(adata.obs['cell_type_t'].cat.categories):\n",
    "    if cat=='others':\n",
    "        adata.uns['cell_type_t_colors'][i] = 'gray'\n",
    "    else:\n",
    "        idx = adata.obs['cell_type_joint'].cat.categories == cat\n",
    "        adata.uns['cell_type_t_colors'][i] = np.array(adata.uns['cell_type_joint_colors'])[idx][0]"
   ]
  },
  {
   "cell_type": "code",
   "execution_count": null,
   "id": "national-marine",
   "metadata": {},
   "outputs": [],
   "source": [
    "sc.pl.scatter(adata, x='IMMUNE_SYSTEM', y='SIGNALING_BY_GPCR', \n",
    "              color='cell_type_t', size=size, title='T cells', legend_loc='lower right', ax=axs[3,0],\n",
    "              groups=['others', 'CD4+ T cells', 'NKT cells', 'CD8+ T cells', 'T'])"
   ]
  },
  {
   "cell_type": "code",
   "execution_count": null,
   "id": "green-airport",
   "metadata": {},
   "outputs": [],
   "source": [
    "sc.pl.scatter(adata, x='IMMUNE_SYSTEM', y='INTERFERON_SIGNALING', \n",
    "              color='cell_type_t', size=size, title='T cells', legend_loc='lower right', ax=axs[3,1],\n",
    "              groups=['others', 'CD4+ T cells', 'NKT cells', 'CD8+ T cells', 'T'])"
   ]
  },
  {
   "cell_type": "code",
   "execution_count": null,
   "id": "invalid-fitness",
   "metadata": {},
   "outputs": [],
   "source": [
    "sc.pl.scatter(adata, x='IMMUNE_SYSTEM', y='INTERFERON_SIGNALING', \n",
    "              color=condition, size=size, title='T cells condition', legend_loc=condition_loc, groups=groups, ax=axs[3,2],\n",
    "              palette=palette)"
   ]
  },
  {
   "cell_type": "code",
   "execution_count": null,
   "id": "referenced-russian",
   "metadata": {},
   "outputs": [],
   "source": [
    "fig"
   ]
  },
  {
   "cell_type": "code",
   "execution_count": null,
   "id": "international-dressing",
   "metadata": {},
   "outputs": [],
   "source": [
    "cell_mask = ~np.in1d(adata.obs['cell_type_joint'],['NK cells'])"
   ]
  },
  {
   "cell_type": "code",
   "execution_count": null,
   "id": "suspended-electron",
   "metadata": {},
   "outputs": [],
   "source": [
    "adata.obs['cell_type_n'] = adata.obs['cell_type_joint'].astype('O')\n",
    "adata.obs['cell_type_n'][cell_mask] = 'others'"
   ]
  },
  {
   "cell_type": "code",
   "execution_count": null,
   "id": "center-romantic",
   "metadata": {},
   "outputs": [],
   "source": [
    "adata.obs['IMMUNOREGULATORY_INTERACTIONS_BETWEEN_A_LYMPHOID_AND_A_NON_LYMPHOID_CELL'] = adata.obs['IMMUNOREGULATORY_INTERACTIONS_']"
   ]
  },
  {
   "cell_type": "code",
   "execution_count": null,
   "id": "floating-native",
   "metadata": {},
   "outputs": [],
   "source": [
    "sc.pl.scatter(adata, x='IMMUNOREGULATORY_INTERACTIONS_BETWEEN_A_LYMPHOID_AND_A_NON_LYMPHOID_CELL', y='GPCR_LIGAND_BINDING', \n",
    "              color='cell_type_n')"
   ]
  },
  {
   "cell_type": "code",
   "execution_count": null,
   "id": "genetic-cleaners",
   "metadata": {},
   "outputs": [],
   "source": [
    "for i, cat in enumerate(adata.obs['cell_type_n'].cat.categories):\n",
    "    if cat=='others':\n",
    "        adata.uns['cell_type_n_colors'][i] = 'gray'\n",
    "    else:\n",
    "        idx = adata.obs['cell_type_joint'].cat.categories == cat\n",
    "        adata.uns['cell_type_n_colors'][i] = np.array(adata.uns['cell_type_joint_colors'])[idx][0]"
   ]
  },
  {
   "cell_type": "code",
   "execution_count": null,
   "id": "dress-writing",
   "metadata": {},
   "outputs": [],
   "source": [
    "sc.pl.scatter(adata, x='IMMUNOREGULATORY_INTERACTIONS_LYMPHOID_-_NON_LYMPHOID_CELL', y='GPCR_LIGAND_BINDING', \n",
    "              color='cell_type_n', size=size, title='NK cells', legend_loc='lower right', ax=axs[4,0],\n",
    "              groups=['others', 'NK cells'])"
   ]
  },
  {
   "cell_type": "code",
   "execution_count": null,
   "id": "editorial-drove",
   "metadata": {},
   "outputs": [],
   "source": [
    "sc.pl.scatter(adata, x='IMMUNOREGULATORY_INTERACTIONS_LYMPHOID_-_NON_LYMPHOID_CELL', y='INTERFERON_SIGNALING', \n",
    "              color='cell_type_n', size=size, title='NK cells', legend_loc='lower right', ax=axs[4,1],\n",
    "              groups=['others', 'NK cells'])"
   ]
  },
  {
   "cell_type": "code",
   "execution_count": null,
   "id": "outdoor-count",
   "metadata": {},
   "outputs": [],
   "source": [
    "sc.pl.scatter(adata, x='IMMUNOREGULATORY_INTERACTIONS_LYMPHOID_-_NON_LYMPHOID_CELL', y='INTERFERON_SIGNALING', \n",
    "              color=condition, size=size, title='NK cells condition', legend_loc=condition_loc, groups=groups, ax=axs[4,2])"
   ]
  },
  {
   "cell_type": "code",
   "execution_count": null,
   "id": "conceptual-championship",
   "metadata": {},
   "outputs": [],
   "source": [
    "fig"
   ]
  },
  {
   "cell_type": "code",
   "execution_count": null,
   "id": "sized-quebec",
   "metadata": {},
   "outputs": [],
   "source": [
    "fig.savefig('pbmc_kang_cell_types_merged_nole_new.png', bbox_inches = \"tight\")"
   ]
  },
  {
   "cell_type": "code",
   "execution_count": null,
   "id": "historic-bowling",
   "metadata": {},
   "outputs": [],
   "source": []
  }
 ],
 "metadata": {
  "kernelspec": {
   "display_name": ".venv",
   "language": "python",
   "name": "python3"
  },
  "language_info": {
   "codemirror_mode": {
    "name": "ipython",
    "version": 3
   },
   "file_extension": ".py",
   "mimetype": "text/x-python",
   "name": "python",
   "nbconvert_exporter": "python",
   "pygments_lexer": "ipython3",
   "version": "3.11.5"
  }
 },
 "nbformat": 4,
 "nbformat_minor": 5
}
