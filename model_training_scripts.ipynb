{
 "cells": [
  {
   "cell_type": "code",
   "execution_count": null,
   "metadata": {},
   "outputs": [],
   "source": [
    "import anndata as an\n",
    "import scanpy as sc\n",
    "import scarches as sca\n",
    "import numpy as np"
   ]
  },
  {
   "cell_type": "code",
   "execution_count": null,
   "metadata": {},
   "outputs": [],
   "source": [
    "import torch\n",
    "torch.set_printoptions(precision=3, sci_mode=False, edgeitems=7)"
   ]
  },
  {
   "cell_type": "code",
   "execution_count": 26,
   "metadata": {},
   "outputs": [
    {
     "name": "stderr",
     "output_type": "stream",
     "text": [
      "c:\\Users\\Mick\\PycharmProjects\\BPEXA\\in_house_data\\venv\\in-house\\.venv\\Lib\\site-packages\\anndata\\compat\\__init__.py:358: FutureWarning: Moving element from .uns['neighbors']['distances'] to .obsp['distances'].\n",
      "\n",
      "This is where adjacency matrices should go now.\n",
      "  warn(\n"
     ]
    }
   ],
   "source": [
    "hips = an.read_h5ad(\"dataset/hiPSC.h5ad\") "
   ]
  },
  {
   "cell_type": "markdown",
   "metadata": {},
   "source": [
    "Converting dataset"
   ]
  },
  {
   "cell_type": "code",
   "execution_count": 27,
   "metadata": {},
   "outputs": [
    {
     "data": {
      "text/plain": [
       "<Compressed Sparse Row sparse matrix of dtype 'int64'\n",
       "\twith 24518519 stored elements and shape (4694, 23543)>"
      ]
     },
     "execution_count": 27,
     "metadata": {},
     "output_type": "execute_result"
    }
   ],
   "source": [
    "for col in hips.obs.columns:\n",
    "    if hips.obs[col].dtype == np.float32:\n",
    "        hips.obs[col] = hips.obs[col].astype(np.int64)\n",
    "    if hips.obs[col].dtype == np.int32:\n",
    "        hips.obs[col] = hips.obs[col].astype(np.int64)\n",
    "hips.X.astype(np.int64)"
   ]
  },
  {
   "cell_type": "code",
   "execution_count": 28,
   "metadata": {},
   "outputs": [
    {
     "name": "stdout",
     "output_type": "stream",
     "text": [
      "<class 'str'>\n",
      "<class 'numpy.float64'>\n",
      "<class 'numpy.int64'>\n",
      "<class 'str'>\n",
      "<class 'str'>\n",
      "<class 'numpy.float64'>\n",
      "<class 'numpy.float64'>\n",
      "<class 'str'>\n",
      "<class 'str'>\n",
      "<class 'numpy.int64'>\n"
     ]
    }
   ],
   "source": [
    "for i in hips.obs:\n",
    "    print(type(hips.obs[i][0]))"
   ]
  },
  {
   "cell_type": "code",
   "execution_count": 29,
   "metadata": {},
   "outputs": [],
   "source": [
    "sca.utils.add_annotations(hips,\"metadata/reactome.gmt\", min_genes=12, clean=True)"
   ]
  },
  {
   "cell_type": "code",
   "execution_count": 30,
   "metadata": {},
   "outputs": [],
   "source": [
    "hips._inplace_subset_var(hips.varm[\"I\"].sum(1)>0)"
   ]
  },
  {
   "cell_type": "code",
   "execution_count": 31,
   "metadata": {},
   "outputs": [],
   "source": [
    "sc.pp.normalize_total(hips)"
   ]
  },
  {
   "cell_type": "code",
   "execution_count": 32,
   "metadata": {},
   "outputs": [
    {
     "data": {
      "text/html": [
       "<div>\n",
       "<style scoped>\n",
       "    .dataframe tbody tr th:only-of-type {\n",
       "        vertical-align: middle;\n",
       "    }\n",
       "\n",
       "    .dataframe tbody tr th {\n",
       "        vertical-align: top;\n",
       "    }\n",
       "\n",
       "    .dataframe thead th {\n",
       "        text-align: right;\n",
       "    }\n",
       "</style>\n",
       "<table border=\"1\" class=\"dataframe\">\n",
       "  <thead>\n",
       "    <tr style=\"text-align: right;\">\n",
       "      <th></th>\n",
       "      <th>orig.ident</th>\n",
       "      <th>nCount_RNA</th>\n",
       "      <th>nFeature_RNA</th>\n",
       "      <th>run</th>\n",
       "      <th>sample_name</th>\n",
       "      <th>percent.mt</th>\n",
       "      <th>percent.dissoc</th>\n",
       "      <th>RNA_snn_res.0.3</th>\n",
       "      <th>seurat_clusters</th>\n",
       "      <th>RNA_snn_res.0.22</th>\n",
       "    </tr>\n",
       "  </thead>\n",
       "  <tbody>\n",
       "    <tr>\n",
       "      <th>batch_2_A_AAACCCAAGGTAATCA-1</th>\n",
       "      <td>SeuratProject</td>\n",
       "      <td>48806.0</td>\n",
       "      <td>6892</td>\n",
       "      <td>0h_A</td>\n",
       "      <td>iPSC_99_4</td>\n",
       "      <td>5.110027</td>\n",
       "      <td>0.013308</td>\n",
       "      <td>2</td>\n",
       "      <td>0</td>\n",
       "      <td>0</td>\n",
       "    </tr>\n",
       "    <tr>\n",
       "      <th>batch_2_A_AAAGGATCATCCAATG-1</th>\n",
       "      <td>SeuratProject</td>\n",
       "      <td>5460.0</td>\n",
       "      <td>2307</td>\n",
       "      <td>0h_A</td>\n",
       "      <td>iPSC_99_4</td>\n",
       "      <td>0.201465</td>\n",
       "      <td>0.015073</td>\n",
       "      <td>7</td>\n",
       "      <td>0</td>\n",
       "      <td>0</td>\n",
       "    </tr>\n",
       "    <tr>\n",
       "      <th>batch_2_A_AAAGGATGTGGTCAAG-1</th>\n",
       "      <td>SeuratProject</td>\n",
       "      <td>32899.0</td>\n",
       "      <td>5707</td>\n",
       "      <td>0h_A</td>\n",
       "      <td>iPSC_99_4</td>\n",
       "      <td>4.097389</td>\n",
       "      <td>0.014101</td>\n",
       "      <td>2</td>\n",
       "      <td>0</td>\n",
       "      <td>0</td>\n",
       "    </tr>\n",
       "    <tr>\n",
       "      <th>batch_2_A_AAAGGTAGTGTCATCA-1</th>\n",
       "      <td>SeuratProject</td>\n",
       "      <td>37327.0</td>\n",
       "      <td>6069</td>\n",
       "      <td>0h_A</td>\n",
       "      <td>iPSC_99_4</td>\n",
       "      <td>4.532912</td>\n",
       "      <td>0.013420</td>\n",
       "      <td>2</td>\n",
       "      <td>0</td>\n",
       "      <td>0</td>\n",
       "    </tr>\n",
       "    <tr>\n",
       "      <th>batch_2_A_AAATGGACATATCTGG-1</th>\n",
       "      <td>SeuratProject</td>\n",
       "      <td>18633.0</td>\n",
       "      <td>4701</td>\n",
       "      <td>0h_A</td>\n",
       "      <td>iPSC_99_4</td>\n",
       "      <td>4.932110</td>\n",
       "      <td>0.013176</td>\n",
       "      <td>2</td>\n",
       "      <td>0</td>\n",
       "      <td>0</td>\n",
       "    </tr>\n",
       "    <tr>\n",
       "      <th>...</th>\n",
       "      <td>...</td>\n",
       "      <td>...</td>\n",
       "      <td>...</td>\n",
       "      <td>...</td>\n",
       "      <td>...</td>\n",
       "      <td>...</td>\n",
       "      <td>...</td>\n",
       "      <td>...</td>\n",
       "      <td>...</td>\n",
       "      <td>...</td>\n",
       "    </tr>\n",
       "    <tr>\n",
       "      <th>batch_1_sample_120H_TTTACTGCATCCGCGA-1</th>\n",
       "      <td>SeuratProject</td>\n",
       "      <td>14013.0</td>\n",
       "      <td>4629</td>\n",
       "      <td>120h</td>\n",
       "      <td>iPSC_72_1</td>\n",
       "      <td>4.767002</td>\n",
       "      <td>0.017398</td>\n",
       "      <td>3</td>\n",
       "      <td>2</td>\n",
       "      <td>2</td>\n",
       "    </tr>\n",
       "    <tr>\n",
       "      <th>batch_1_sample_120H_TTTCACATCAGCCCAG-1</th>\n",
       "      <td>SeuratProject</td>\n",
       "      <td>21173.0</td>\n",
       "      <td>5140</td>\n",
       "      <td>120h</td>\n",
       "      <td>iPSC_72_1</td>\n",
       "      <td>4.127899</td>\n",
       "      <td>0.014142</td>\n",
       "      <td>5</td>\n",
       "      <td>4</td>\n",
       "      <td>4</td>\n",
       "    </tr>\n",
       "    <tr>\n",
       "      <th>batch_1_sample_120H_TTTCAGTAGTACAGAT-1</th>\n",
       "      <td>SeuratProject</td>\n",
       "      <td>22107.0</td>\n",
       "      <td>5437</td>\n",
       "      <td>120h</td>\n",
       "      <td>iPSC_72_1</td>\n",
       "      <td>2.035554</td>\n",
       "      <td>0.013721</td>\n",
       "      <td>3</td>\n",
       "      <td>2</td>\n",
       "      <td>2</td>\n",
       "    </tr>\n",
       "    <tr>\n",
       "      <th>batch_1_sample_120H_TTTGATCAGCTCCATA-1</th>\n",
       "      <td>SeuratProject</td>\n",
       "      <td>12806.0</td>\n",
       "      <td>4127</td>\n",
       "      <td>120h</td>\n",
       "      <td>iPSC_72_1</td>\n",
       "      <td>3.428081</td>\n",
       "      <td>0.015297</td>\n",
       "      <td>3</td>\n",
       "      <td>2</td>\n",
       "      <td>2</td>\n",
       "    </tr>\n",
       "    <tr>\n",
       "      <th>batch_1_sample_120H_TTTGTTGAGTTGGCGA-1</th>\n",
       "      <td>SeuratProject</td>\n",
       "      <td>32140.0</td>\n",
       "      <td>5614</td>\n",
       "      <td>120h</td>\n",
       "      <td>iPSC_72_1</td>\n",
       "      <td>2.722464</td>\n",
       "      <td>0.013653</td>\n",
       "      <td>3</td>\n",
       "      <td>2</td>\n",
       "      <td>2</td>\n",
       "    </tr>\n",
       "  </tbody>\n",
       "</table>\n",
       "<p>4694 rows × 10 columns</p>\n",
       "</div>"
      ],
      "text/plain": [
       "                                           orig.ident  nCount_RNA  \\\n",
       "batch_2_A_AAACCCAAGGTAATCA-1            SeuratProject     48806.0   \n",
       "batch_2_A_AAAGGATCATCCAATG-1            SeuratProject      5460.0   \n",
       "batch_2_A_AAAGGATGTGGTCAAG-1            SeuratProject     32899.0   \n",
       "batch_2_A_AAAGGTAGTGTCATCA-1            SeuratProject     37327.0   \n",
       "batch_2_A_AAATGGACATATCTGG-1            SeuratProject     18633.0   \n",
       "...                                               ...         ...   \n",
       "batch_1_sample_120H_TTTACTGCATCCGCGA-1  SeuratProject     14013.0   \n",
       "batch_1_sample_120H_TTTCACATCAGCCCAG-1  SeuratProject     21173.0   \n",
       "batch_1_sample_120H_TTTCAGTAGTACAGAT-1  SeuratProject     22107.0   \n",
       "batch_1_sample_120H_TTTGATCAGCTCCATA-1  SeuratProject     12806.0   \n",
       "batch_1_sample_120H_TTTGTTGAGTTGGCGA-1  SeuratProject     32140.0   \n",
       "\n",
       "                                        nFeature_RNA   run sample_name  \\\n",
       "batch_2_A_AAACCCAAGGTAATCA-1                    6892  0h_A   iPSC_99_4   \n",
       "batch_2_A_AAAGGATCATCCAATG-1                    2307  0h_A   iPSC_99_4   \n",
       "batch_2_A_AAAGGATGTGGTCAAG-1                    5707  0h_A   iPSC_99_4   \n",
       "batch_2_A_AAAGGTAGTGTCATCA-1                    6069  0h_A   iPSC_99_4   \n",
       "batch_2_A_AAATGGACATATCTGG-1                    4701  0h_A   iPSC_99_4   \n",
       "...                                              ...   ...         ...   \n",
       "batch_1_sample_120H_TTTACTGCATCCGCGA-1          4629  120h   iPSC_72_1   \n",
       "batch_1_sample_120H_TTTCACATCAGCCCAG-1          5140  120h   iPSC_72_1   \n",
       "batch_1_sample_120H_TTTCAGTAGTACAGAT-1          5437  120h   iPSC_72_1   \n",
       "batch_1_sample_120H_TTTGATCAGCTCCATA-1          4127  120h   iPSC_72_1   \n",
       "batch_1_sample_120H_TTTGTTGAGTTGGCGA-1          5614  120h   iPSC_72_1   \n",
       "\n",
       "                                        percent.mt  percent.dissoc  \\\n",
       "batch_2_A_AAACCCAAGGTAATCA-1              5.110027        0.013308   \n",
       "batch_2_A_AAAGGATCATCCAATG-1              0.201465        0.015073   \n",
       "batch_2_A_AAAGGATGTGGTCAAG-1              4.097389        0.014101   \n",
       "batch_2_A_AAAGGTAGTGTCATCA-1              4.532912        0.013420   \n",
       "batch_2_A_AAATGGACATATCTGG-1              4.932110        0.013176   \n",
       "...                                            ...             ...   \n",
       "batch_1_sample_120H_TTTACTGCATCCGCGA-1    4.767002        0.017398   \n",
       "batch_1_sample_120H_TTTCACATCAGCCCAG-1    4.127899        0.014142   \n",
       "batch_1_sample_120H_TTTCAGTAGTACAGAT-1    2.035554        0.013721   \n",
       "batch_1_sample_120H_TTTGATCAGCTCCATA-1    3.428081        0.015297   \n",
       "batch_1_sample_120H_TTTGTTGAGTTGGCGA-1    2.722464        0.013653   \n",
       "\n",
       "                                       RNA_snn_res.0.3 seurat_clusters  \\\n",
       "batch_2_A_AAACCCAAGGTAATCA-1                         2               0   \n",
       "batch_2_A_AAAGGATCATCCAATG-1                         7               0   \n",
       "batch_2_A_AAAGGATGTGGTCAAG-1                         2               0   \n",
       "batch_2_A_AAAGGTAGTGTCATCA-1                         2               0   \n",
       "batch_2_A_AAATGGACATATCTGG-1                         2               0   \n",
       "...                                                ...             ...   \n",
       "batch_1_sample_120H_TTTACTGCATCCGCGA-1               3               2   \n",
       "batch_1_sample_120H_TTTCACATCAGCCCAG-1               5               4   \n",
       "batch_1_sample_120H_TTTCAGTAGTACAGAT-1               3               2   \n",
       "batch_1_sample_120H_TTTGATCAGCTCCATA-1               3               2   \n",
       "batch_1_sample_120H_TTTGTTGAGTTGGCGA-1               3               2   \n",
       "\n",
       "                                        RNA_snn_res.0.22  \n",
       "batch_2_A_AAACCCAAGGTAATCA-1                           0  \n",
       "batch_2_A_AAAGGATCATCCAATG-1                           0  \n",
       "batch_2_A_AAAGGATGTGGTCAAG-1                           0  \n",
       "batch_2_A_AAAGGTAGTGTCATCA-1                           0  \n",
       "batch_2_A_AAATGGACATATCTGG-1                           0  \n",
       "...                                                  ...  \n",
       "batch_1_sample_120H_TTTACTGCATCCGCGA-1                 2  \n",
       "batch_1_sample_120H_TTTCACATCAGCCCAG-1                 4  \n",
       "batch_1_sample_120H_TTTCAGTAGTACAGAT-1                 2  \n",
       "batch_1_sample_120H_TTTGATCAGCTCCATA-1                 2  \n",
       "batch_1_sample_120H_TTTGTTGAGTTGGCGA-1                 2  \n",
       "\n",
       "[4694 rows x 10 columns]"
      ]
     },
     "execution_count": 32,
     "metadata": {},
     "output_type": "execute_result"
    }
   ],
   "source": [
    "sc.pp.log1p(hips)\n",
    "hips.obs"
   ]
  },
  {
   "cell_type": "code",
   "execution_count": 33,
   "metadata": {},
   "outputs": [],
   "source": [
    "sc.pp.highly_variable_genes(\n",
    "    hips,\n",
    "    n_top_genes=2000,\n",
    "    batch_key=\"sample_name\",\n",
    "    subset=True\n",
    ")"
   ]
  },
  {
   "cell_type": "code",
   "execution_count": 34,
   "metadata": {},
   "outputs": [],
   "source": [
    "select_terms = hips.varm[\"I\"].sum(0)>12\n",
    "hips.uns['terms'] = np.array(hips.uns['terms'])[select_terms].tolist()\n",
    "hips.varm['I'] = hips.varm['I'][:, select_terms]\n",
    "hips._inplace_subset_var(hips.varm['I'].sum(1)>0)\n",
    "#hips.Y = hips.obsp[\"distances\"].copy()"
   ]
  },
  {
   "cell_type": "code",
   "execution_count": 35,
   "metadata": {},
   "outputs": [
    {
     "data": {
      "text/plain": [
       "AnnData object with n_obs × n_vars = 4694 × 1968\n",
       "    obs: 'orig.ident', 'nCount_RNA', 'nFeature_RNA', 'run', 'sample_name', 'percent.mt', 'percent.dissoc', 'RNA_snn_res.0.3', 'seurat_clusters', 'RNA_snn_res.0.22'\n",
       "    var: 'features', 'highly_variable', 'means', 'dispersions', 'dispersions_norm', 'highly_variable_nbatches', 'highly_variable_intersection'\n",
       "    uns: 'neighbors', 'terms', 'log1p', 'hvg'\n",
       "    obsm: 'X_mnn', 'X_umap'\n",
       "    varm: 'I'\n",
       "    obsp: 'distances'"
      ]
     },
     "execution_count": 35,
     "metadata": {},
     "output_type": "execute_result"
    }
   ],
   "source": [
    "hips"
   ]
  },
  {
   "cell_type": "code",
   "execution_count": 36,
   "metadata": {},
   "outputs": [
    {
     "name": "stdout",
     "output_type": "stream",
     "text": [
      "['SeuratProject', 'SeuratProject', 'SeuratProject', 'SeuratProject', 'SeuratProject', ..., 'SeuratProject', 'SeuratProject', 'SeuratProject', 'SeuratProject', 'SeuratProject']\n",
      "Length: 4694\n",
      "Categories (1, object): ['SeuratProject']\n",
      "[48806.  5460. 32899. 37327. 18633. 24022. 38150. ... 11334. 10288. 14013.\n",
      " 21173. 22107. 12806. 32140.]\n",
      "[6892 2307 5707 6069 4701 5670 6478 ... 4117 3380 4629 5140 5437 4127 5614]\n",
      "['0h_A', '0h_A', '0h_A', '0h_A', '0h_A', ..., '120h', '120h', '120h', '120h', '120h']\n",
      "Length: 4694\n",
      "Categories (4, object): ['0h_A', '0h_B', '48h', '120h']\n",
      "['iPSC_99_4', 'iPSC_99_4', 'iPSC_99_4', 'iPSC_99_4', 'iPSC_99_4', ..., 'iPSC_72_1', 'iPSC_72_1', 'iPSC_72_1', 'iPSC_72_1', 'iPSC_72_1']\n",
      "Length: 4694\n",
      "Categories (4, object): ['iPSC_20_6_4', 'iPSC_54_3', 'iPSC_72_1', 'iPSC_99_4']\n",
      "[5.11 0.2  4.1  4.53 4.93 6.64 6.03 ... 7.36 3.35 4.77 4.13 2.04 3.43 2.72]\n",
      "[0.01 0.02 0.01 0.01 0.01 0.01 0.01 ... 0.02 0.02 0.02 0.01 0.01 0.02 0.01]\n",
      "['2', '7', '2', '2', '2', ..., '3', '5', '3', '3', '3']\n",
      "Length: 4694\n",
      "Categories (9, object): ['0', '1', '2', '3', ..., '5', '6', '7', '8']\n",
      "['0', '0', '0', '0', '0', ..., '2', '4', '2', '2', '2']\n",
      "Length: 4694\n",
      "Categories (6, object): ['0', '1', '2', '3', '4', '5']\n",
      "[0 0 0 0 0 0 0 ... 2 2 2 4 2 2 2]\n"
     ]
    }
   ],
   "source": [
    "for i in hips.obs:\n",
    "    print(hips.obs[i].values)\n"
   ]
  },
  {
   "cell_type": "code",
   "execution_count": null,
   "metadata": {},
   "outputs": [],
   "source": []
  },
  {
   "cell_type": "code",
   "execution_count": 55,
   "metadata": {},
   "outputs": [
    {
     "name": "stdout",
     "output_type": "stream",
     "text": [
      "\n",
      "INITIALIZING NEW NETWORK..............\n",
      "Encoder Architecture:\n",
      "\tInput Layer in, out and cond: 1968 256 4\n",
      "\tHidden Layer 1 in/out: 256 256\n",
      "\tHidden Layer 2 in/out: 256 256\n",
      "\tMean/Var Layer in/out: 256 245\n",
      "Decoder Architecture:\n",
      "\tMasked linear layer in, ext_m, ext, cond, out:  245 0 0 4 1968\n",
      "\twith hard mask.\n",
      "Last Decoder layer: softmax\n"
     ]
    }
   ],
   "source": [
    "intr_cvae = sca.models.EXPIMAP(\n",
    "    adata=hips,\n",
    "    condition_key='sample_name',\n",
    "    hidden_layer_sizes=[256, 256, 256],\n",
    "    #use_mmd=False,\n",
    "    recon_loss='nb',\n",
    "    mask=hips.varm['I'].T,\n",
    "    #use_decoder_relu=False,\n",
    "    #mmd_instead_kl=False\n",
    ")\n"
   ]
  },
  {
   "cell_type": "code",
   "execution_count": 52,
   "metadata": {},
   "outputs": [],
   "source": [
    "hips.X = hips.X.astype(np.float32)"
   ]
  },
  {
   "cell_type": "code",
   "execution_count": 56,
   "metadata": {},
   "outputs": [],
   "source": [
    "early_stopping_kwargs = {\n",
    "    \"early_stopping_metric\": \"val_unweighted_loss\", # val_unweighted_loss\n",
    "    \"threshold\": 0,\n",
    "    \"patience\": 50,\n",
    "    \"reduce_lr\": True,\n",
    "    \"lr_patience\": 13,\n",
    "    \"lr_factor\": 0.1,\n",
    "}"
   ]
  },
  {
   "cell_type": "code",
   "execution_count": 61,
   "metadata": {},
   "outputs": [],
   "source": [
    "ALPHA = 0.7\n",
    "OMEGA = None"
   ]
  },
  {
   "cell_type": "code",
   "execution_count": 62,
   "metadata": {},
   "outputs": [
    {
     "name": "stdout",
     "output_type": "stream",
     "text": [
      "Preparing (4694, 1968)\n",
      "Instantiating dataset\n",
      "Init the group lasso proximal operator for the main terms.\n",
      " |███████████████████-| 99.2%  - val_loss: 1239.4485168457 - val_recon_loss: 1223.0694274902 - val_kl_loss: 32.75814819345\n",
      "ADJUSTED LR\n",
      " |████████████████████| 100.0%  - val_loss: 1239.4542236328 - val_recon_loss: 1222.9104614258 - val_kl_loss: 33.0874900818\n",
      "Saving best state of network...\n",
      "Best State was in Epoch 382\n"
     ]
    }
   ],
   "source": [
    "\n",
    "intr_cvae.train(\n",
    "    n_epochs=400, \n",
    "    alpha_epoch_anneal=100, \n",
    "    alpha=ALPHA, \n",
    "    omega=OMEGA,\n",
    "    alpha_kl=0.5,\n",
    "    weight_decay=0., \n",
    "    early_stopping_kwargs=early_stopping_kwargs,\n",
    "    use_early_stopping=True,\n",
    "    seed=2020\n",
    ")"
   ]
  },
  {
   "cell_type": "code",
   "execution_count": 63,
   "metadata": {},
   "outputs": [],
   "source": [
    "inactive_idx = ~(intr_cvae.model.decoder.L0.expr_L.weight.data.norm(p=2, dim=0)>0).cpu().numpy()"
   ]
  }
 ],
 "metadata": {
  "kernelspec": {
   "display_name": ".venv",
   "language": "python",
   "name": "python3"
  },
  "language_info": {
   "codemirror_mode": {
    "name": "ipython",
    "version": 3
   },
   "file_extension": ".py",
   "mimetype": "text/x-python",
   "name": "python",
   "nbconvert_exporter": "python",
   "pygments_lexer": "ipython3",
   "version": "3.12.7"
  }
 },
 "nbformat": 4,
 "nbformat_minor": 2
}
