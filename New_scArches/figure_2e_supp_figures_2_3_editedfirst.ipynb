{
 "cells": [
  {
   "cell_type": "code",
   "execution_count": null,
   "id": "collectible-independence",
   "metadata": {},
   "outputs": [],
   "source": [
    "import scanpy as sc\n",
    "import scarches as sca\n",
    "import numpy as np\n",
    "from scarches.plotting.terms_scores import plot_abs_bfs_key\n",
    "import pandas as pd"
   ]
  },
  {
   "cell_type": "code",
   "execution_count": null,
   "id": "meaning-alfred",
   "metadata": {},
   "outputs": [],
   "source": [
    "sc.set_figure_params(figsize=(6, 6))\n",
    "import matplotlib.pyplot as plt\n",
    "import matplotlib\n",
    "import seaborn as sb\n",
    "\n",
    "font = {'family' : 'Arial',\n",
    "        'size'   : 14}\n",
    "\n",
    "matplotlib.rc('font', **font)\n",
    "matplotlib.rc('ytick', labelsize=14)\n",
    "matplotlib.rc('xtick', labelsize=14)\n",
    "matplotlib.rcParams[\"figure.dpi\"] = 200"
   ]
  },
  {
   "cell_type": "markdown",
   "id": "fundamental-instruction",
   "metadata": {},
   "source": [
    "### Pbmc Kang"
   ]
  },
  {
   "cell_type": "code",
   "execution_count": null,
   "id": "turkish-arthur",
   "metadata": {},
   "outputs": [],
   "source": [
    "adata = sc.read('kang_pbmc_integrated.h5ad')"
   ]
  },
  {
   "cell_type": "code",
   "execution_count": null,
   "id": "characteristic-gasoline",
   "metadata": {},
   "outputs": [],
   "source": [
    "adata.obs['condition_merged'] = adata.obs['condition'].tolist()\n",
    "adata.obs['condition_merged'][adata.obs['condition_merged'].astype(str)=='nan'] = 'control'\n",
    "adata.strings_to_categoricals()"
   ]
  },
  {
   "cell_type": "code",
   "execution_count": null,
   "id": "julian-logic",
   "metadata": {},
   "outputs": [],
   "source": [
    "intr_cvae = sca.models.EXPIMAP.load('q_intr_cvae_nolog_alpha_kl_0_5_0_1_sd_2020', adata)"
   ]
  },
  {
   "cell_type": "code",
   "execution_count": null,
   "id": "biblical-interaction",
   "metadata": {},
   "outputs": [],
   "source": [
    "directions = intr_cvae.latent_directions(method=\"sum\")"
   ]
  },
  {
   "cell_type": "code",
   "execution_count": null,
   "id": "8733e871",
   "metadata": {},
   "outputs": [],
   "source": [
    "directions = adata.uns['directions']"
   ]
  },
  {
   "cell_type": "code",
   "execution_count": null,
   "id": "combined-subscription",
   "metadata": {},
   "outputs": [],
   "source": [
    "adata.obsm['X_cvae'] *= directions[intr_cvae.model.decoder.nonzero_terms()]"
   ]
  },
  {
   "cell_type": "code",
   "execution_count": null,
   "id": "commercial-victor",
   "metadata": {},
   "outputs": [],
   "source": [
    "scores_cond = intr_cvae.latent_enrich('condition_merged', comparison=\"control\", directions_key=directions, adata=adata, n_sample=7000)"
   ]
  },
  {
   "cell_type": "code",
   "execution_count": null,
   "id": "retained-alfred",
   "metadata": {},
   "outputs": [],
   "source": [
    "scores_ct = intr_cvae.latent_enrich('cell_type_joint', directions_key=directions, n_sample=7000, adata=adata)"
   ]
  },
  {
   "cell_type": "code",
   "execution_count": null,
   "id": "10620aa0",
   "metadata": {},
   "outputs": [],
   "source": [
    "scores_ct = adata.uns['bf_scores']"
   ]
  },
  {
   "cell_type": "code",
   "execution_count": null,
   "id": "initial-lottery",
   "metadata": {},
   "outputs": [],
   "source": [
    "adata.uns['active_terms'] = adata.uns['directions'][intr_cvae.model.decoder.nonzero_terms()]"
   ]
  },
  {
   "cell_type": "code",
   "execution_count": null,
   "id": "alike-woman",
   "metadata": {},
   "outputs": [],
   "source": []
  },
  {
   "cell_type": "code",
   "execution_count": null,
   "id": "portuguese-effect",
   "metadata": {},
   "outputs": [],
   "source": [
    "adata_ct = adata[adata.obs.cell_type_joint == 'CD14+ Monocytes']"
   ]
  },
  {
   "cell_type": "code",
   "execution_count": null,
   "id": "invisible-seller",
   "metadata": {},
   "outputs": [],
   "source": [
    "scores_c_ct = intr_cvae.latent_enrich('condition_merged', comparison=\"control\", directions_key=directions, adata=adata_ct, n_sample=10000)"
   ]
  },
  {
   "cell_type": "code",
   "execution_count": null,
   "id": "f64d9f5f",
   "metadata": {},
   "outputs": [],
   "source": [
    "scores_c_ct = adata.uns['bf_scores']"
   ]
  },
  {
   "cell_type": "code",
   "execution_count": null,
   "id": "d79d306e",
   "metadata": {},
   "outputs": [],
   "source": [
    "print(adata.uns.keys())"
   ]
  },
  {
   "cell_type": "code",
   "execution_count": null,
   "id": "f5f8e2d3",
   "metadata": {},
   "outputs": [],
   "source": [
    "print('STIMULATED' in adata.obs.columns)  # Should be True if it’s in adata.obs\n",
    "print('STIMULATED' in adata.uns)          # Should be True if it’s in adata.uns\n"
   ]
  },
  {
   "cell_type": "code",
   "execution_count": null,
   "id": "suspended-player",
   "metadata": {},
   "outputs": [],
   "source": [
    "axs = sca.plotting.plot_abs_bfs(adata, terms=adata.uns['terms'], yt_step=1, scale_y=2.45)"
   ]
  },
  {
   "cell_type": "code",
   "execution_count": null,
   "id": "guided-victory",
   "metadata": {},
   "outputs": [],
   "source": [
    "adata_ct.uns['active_terms'] = adata.uns['terms'][intr_cvae.model.decoder.nonzero_terms()]"
   ]
  },
  {
   "cell_type": "code",
   "execution_count": null,
   "id": "smaller-surveillance",
   "metadata": {},
   "outputs": [],
   "source": [
    "def filter_set_scores(scores, adata, filter_v=2.31):\n",
    "    for k in scores:\n",
    "        print(k)\n",
    "        mask = np.abs(scores[k]['bf']) > filter_v\n",
    "        s = sum(mask)\n",
    "        if s > 0:\n",
    "            sort = np.argsort(np.abs(scores[k]['bf'])[mask])[::-1]\n",
    "            enriched_terms = adata.uns['terms'][mask][sort]\n",
    "            \n",
    "            print(enriched_terms)\n",
    "            print(scores[k]['bf'][mask][sort])\n",
    "            \n",
    "            for term in enriched_terms:\n",
    "                adata.obs[term] = adata.obsm['X_cvae'][:, adata.uns['active_terms'] == term]"
   ]
  },
  {
   "cell_type": "code",
   "execution_count": null,
   "id": "oriental-concert",
   "metadata": {},
   "outputs": [],
   "source": [
    "filter_set_scores(scores_c_ct, adata_ct, filter_v=1)"
   ]
  },
  {
   "cell_type": "code",
   "execution_count": null,
   "id": "fourth-success",
   "metadata": {},
   "outputs": [],
   "source": [
    "#check_terms = ['SIGNALING_BY_GPCR', 'CLASS_A1_RHODOPSIN_LIKE_RECEPT', 'IMMUNE_SYSTEM',\n",
    "#               'RNA_POL_I_RNA_POL_III_AND_MITO', 'METABOLISM_OF_CARBOHYDRATES',\n",
    "#               'CYTOKINE_SIGNALING_IN_IMMUNE_S', 'APOPTOTIC_EXECUTION_PHASE',\n",
    "#               'METABOLISM_OF_NUCLEOTIDES', 'BIOLOGICAL_OXIDATIONS',\n",
    "#               'INTERFERON_GAMMA_SIGNALING']"
   ]
  },
  {
   "cell_type": "code",
   "execution_count": null,
   "id": "executed-progress",
   "metadata": {},
   "outputs": [],
   "source": [
    "check_terms = ['INTERFERON_SIGNALING', 'INTERFERON_ALPHA_BETA_SIGNALIN',\n",
    " 'GPCR_DOWNSTREAM_SIGNALING', 'IMMUNE_SYSTEM', 'SIGNALING_BY_GPCR',\n",
    " 'METABOLISM_OF_CARBOHYDRATES', 'CYTOKINE_SIGNALING_IN_IMMUNE_S',\n",
    " 'PLATELET_ACTIVATION_SIGNALING_', 'METABOLISM_OF_AMINO_ACIDS_AND_',\n",
    " 'METABOLISM_OF_NUCLEOTIDES']"
   ]
  },
  {
   "cell_type": "code",
   "execution_count": null,
   "id": "immediate-alignment",
   "metadata": {},
   "outputs": [],
   "source": [
    "intr_cvae.term_genes('IMMUNE_SYSTEM')"
   ]
  },
  {
   "cell_type": "code",
   "execution_count": null,
   "id": "permanent-share",
   "metadata": {},
   "outputs": [],
   "source": [
    "idxs = [adata_ct.uns['active_terms'].tolist().index(t) for t in check_terms]"
   ]
  },
  {
   "cell_type": "code",
   "execution_count": null,
   "id": "hybrid-blake",
   "metadata": {},
   "outputs": [],
   "source": [
    "idxs"
   ]
  },
  {
   "cell_type": "code",
   "execution_count": null,
   "id": "opposed-warrior",
   "metadata": {},
   "outputs": [],
   "source": [
    "adata_pl = sc.AnnData(X=adata.obsm['X_cvae'][:, idxs])"
   ]
  },
  {
   "cell_type": "code",
   "execution_count": null,
   "id": "convinced-assignment",
   "metadata": {},
   "outputs": [],
   "source": [
    "adata_pl.var_names = check_terms"
   ]
  },
  {
   "cell_type": "code",
   "execution_count": null,
   "id": "preliminary-crime",
   "metadata": {},
   "outputs": [],
   "source": [
    "adata_pl.obs['ct_cond'] = 'stub'"
   ]
  },
  {
   "cell_type": "code",
   "execution_count": null,
   "id": "weekly-watershed",
   "metadata": {},
   "outputs": [],
   "source": [
    "for i in range(adata.n_obs):\n",
    "    adata_pl.obs['ct_cond'][i] = adata.obs['cell_type_joint'][i] + '_' + adata.obs['condition_merged'][i]"
   ]
  },
  {
   "cell_type": "code",
   "execution_count": null,
   "id": "theoretical-shopper",
   "metadata": {},
   "outputs": [],
   "source": [
    "sc.pl.stacked_violin(adata_pl, var_names=check_terms, groupby='ct_cond', swap_axes=True)"
   ]
  },
  {
   "cell_type": "code",
   "execution_count": null,
   "id": "restricted-symbol",
   "metadata": {},
   "outputs": [],
   "source": [
    "query_ct = adata_pl[adata.obs.study == 'Kang'].obs.ct_cond.unique().tolist()"
   ]
  },
  {
   "cell_type": "code",
   "execution_count": null,
   "id": "typical-devon",
   "metadata": {},
   "outputs": [],
   "source": [
    "adata_pl_q = adata_pl[adata_pl.obs.ct_cond.isin(query_ct)]"
   ]
  },
  {
   "cell_type": "code",
   "execution_count": null,
   "id": "heated-physiology",
   "metadata": {},
   "outputs": [],
   "source": [
    "sc.pl.stacked_violin(adata_pl_q, var_names=check_terms[:5], groupby='ct_cond', swap_axes=True)"
   ]
  },
  {
   "cell_type": "code",
   "execution_count": null,
   "id": "frequent-break",
   "metadata": {},
   "outputs": [],
   "source": [
    "sc.pl.stacked_violin(adata_pl_q, var_names=['INTERFERON_SIGNALING', 'GPCR_DOWNSTREAM_SIGNALING', 'SIGNALING_BY_GPCR', 'METABOLISM_OF_CARBOHYDRATES'], groupby='ct_cond', swap_axes=True)"
   ]
  },
  {
   "cell_type": "code",
   "execution_count": null,
   "id": "critical-transsexual",
   "metadata": {},
   "outputs": [],
   "source": [
    "query_ct = adata.obs.cell_type_joint[adata.obs.batch_join == 'Kang (query)'].unique()"
   ]
  },
  {
   "cell_type": "code",
   "execution_count": null,
   "id": "sized-diabetes",
   "metadata": {},
   "outputs": [],
   "source": [
    "scores_ct_q = {k: v for k, v in scores_ct.items() if k in query_ct}"
   ]
  },
  {
   "cell_type": "code",
   "execution_count": null,
   "id": "800f3d03",
   "metadata": {},
   "outputs": [],
   "source": [
    "for ct in query_ct.categories:\n",
    "    print(ct)\n",
    "print(adata.uns.keys())"
   ]
  },
  {
   "cell_type": "code",
   "execution_count": null,
   "id": "b7ba1ba3",
   "metadata": {},
   "outputs": [],
   "source": [
    "# adata_pl.obs['ct_cond'] = [\n",
    "#     adata.obs['cell_type_joint'][i] + '_' + adata.obs['condition_merged'][i] \n",
    "#     for i in range(adata.n_obs)\n",
    "# ]"
   ]
  },
  {
   "cell_type": "code",
   "execution_count": null,
   "id": "fd197af5",
   "metadata": {},
   "outputs": [],
   "source": [
    "print(adata.obs.columns)\n",
    "print(adata.obs['study'].unique())\n",
    "adata.obs['study'] = adata.obs['study'].astype(str)  # Ensure it's treated as a string\n",
    "adata.obs['study'] = adata.obs['study'].astype('category')\n"
   ]
  },
  {
   "cell_type": "code",
   "execution_count": null,
   "id": "9b9019d9",
   "metadata": {},
   "outputs": [],
   "source": [
    "for ct in query_ct.categories:\n",
    "    print(ct)\n",
    "    scores = scores_ct[ct]['bf']\n",
    "    sort = np.argsort(np.abs(scores))[::-1]\n",
    "    top_10_terms = adata.uns['directions'][sort][:10]\n",
    "    idxs = [adata.uns['active_terms'].tolist().index(t) for t in top_10_terms]\n",
    "    \n",
    "    adata_pl = sc.AnnData(X=adata.obsm['X_cvae'][:, idxs])\n",
    "    adata_pl.var_names = top_10_terms.tolist()\n",
    "    adata_pl.obs['ct_cond'] = 'stub'\n",
    "    for i in range(adata.n_obs):\n",
    "        adata_pl.obs['ct_cond'][i] = adata.obs['cell_type_joint'][i] + '_' + adata.obs['condition_merged'][i]\n",
    "    query_typs = adata_pl[adata.obs.study == 'Kang'].obs.ct_cond.unique().tolist()\n",
    "    adata_pl_q = adata_pl[adata_pl.obs.ct_cond.isin(query_typs)]\n",
    "    sc.pl.stacked_violin(adata_pl_q, var_names=top_10_terms, groupby='ct_cond', swap_axes=True)"
   ]
  },
  {
   "cell_type": "code",
   "execution_count": null,
   "id": "d6289296",
   "metadata": {},
   "outputs": [],
   "source": [
    "for ct in query_ct.categories:\n",
    "    print(\"Current category:\", ct)\n",
    "    if ct not in scores_ct:\n",
    "        print(f\"Warning: '{ct}' not found in scores_ct. Skipping.\")\n",
    "        continue\n",
    "\n",
    "    scores = scores_ct[ct]['bf']\n",
    "    print(\"Scores:\", scores)\n",
    "    \n",
    "    sort = np.argsort(np.abs(scores))[::-1]\n",
    "\n",
    "    top_10_terms = adata.uns['directions'][sort][:10]\n",
    "    print(\"Top 10 terms:\", top_10_terms)\n",
    "    \n",
    "    idxs = [adata.uns['active_terms'].tolist().index(t) for t in top_10_terms]\n",
    "    print(\"Indices in `active_terms`:\", idxs)\n",
    "    \n",
    "    # Proceed as before\n",
    "    adata_pl = sc.AnnData(X=adata.obsm['X_cvae'][:, idxs])\n",
    "    adata_pl.var_names = top_10_terms.tolist()\n",
    "    adata_pl.obs['ct_cond'] = 'stub'\n",
    "    for i in range(adata.n_obs):\n",
    "        adata_pl.obs['ct_cond'][i] = adata.obs['cell_type_joint'][i] + '_' + adata.obs['condition_merged'][i]\n",
    "    \n",
    "    query_typs = adata.obs.query(\"study == 'Kang'\")['ct_cond'].unique().tolist()\n",
    "    print(\"Query types:\", query_typs)\n",
    "    print(\"Query types:\", query_typs)\n",
    "    \n",
    "    adata_pl_q = adata_pl[adata_pl.obs.ct_cond.isin(query_typs)]\n",
    "    print(\"Filtered adata_pl_q observations:\", adata_pl_q.obs.shape)\n",
    "\n",
    "    # Check if `stacked_violin` runs successfully\n",
    "    sc.pl.stacked_violin(adata_pl_q, var_names=top_10_terms, groupby='ct_cond', swap_axes=True)\n"
   ]
  },
  {
   "cell_type": "code",
   "execution_count": null,
   "id": "8fb6d0a2",
   "metadata": {},
   "outputs": [],
   "source": [
    "\n",
    "for ct in query_ct.categories:\n",
    "    print(ct)\n",
    "    scores = scores_ct[ct]['bf']\n",
    "    sort = np.argsort(np.abs(scores))[::-1]\n",
    "    top_10_terms = adata.uns['directions'][sort][:10]\n",
    "    idxs = [adata.uns['active_terms'].tolist().index(t) for t in top_10_terms]\n",
    "    \n",
    "    adata_pl = sc.AnnData(X=adata.obsm['X_cvae'][:, idxs])\n",
    "    adata_pl.var_names = top_10_terms.tolist()\n",
    "    adata_pl.obs['ct_cond'] = 'stub'\n",
    "    for i in range(adata.n_obs):\n",
    "        adata_pl.obs['ct_cond'][i] = adata.obs['cell_type_joint'][i] + '_' + adata.obs['condition_merged'][i]\n",
    "        \n",
    "    query_typs = adata_pl.obs['ct_cond'].unique().tolist()\n",
    "    adata_pl_q = adata.var_names_make_unique()\n",
    "    # adata_pl_q = adata_pl[adata_pl.obs()]\n",
    "    # adata_pl = adata_pl.unique()\n",
    "    sc.pl.stacked_violin(adata_pl_q, var_names=top_10_terms, groupby='ct_cond', swap_axes=True)"
   ]
  },
  {
   "cell_type": "code",
   "execution_count": null,
   "id": "brave-ocean",
   "metadata": {},
   "outputs": [],
   "source": [
    "adata.obs['condition_merged'] = adata.obs['condition_merged'].astype(str)\n",
    "adata.obs['condition_merged'][adata.obs['condition_merged']=='stimulated'] = 'IFN-beta'"
   ]
  },
  {
   "cell_type": "code",
   "execution_count": null,
   "id": "prompt-bolivia",
   "metadata": {},
   "outputs": [],
   "source": [
    "for ct in query_ct:\n",
    "    print(ct)\n",
    "    adata_ct = adata[adata.obs.cell_type_joint == ct]\n",
    "    scores_c_ct = intr_cvae.latent_enrich('condition_merged', comparison=\"control\", directions=directions, adata=adata_ct, n_perm=50000, exact=True)\n",
    "    \n",
    "    scores = scores_c_ct['IFN-beta']['bf']\n",
    "    sort = np.argsort(np.abs(scores))[::-1]\n",
    "    top_10_terms = adata.uns['full_terms'][sort][:10]\n",
    "    idxs = [adata.uns['active_terms'].tolist().index(t) for t in top_10_terms]\n",
    "    \n",
    "    adata_pl = sc.AnnData(X=adata.obsm['X_cvae'][:, idxs])\n",
    "    terms = [t[:45] for t in top_10_terms]\n",
    "    adata_pl.var_names = terms\n",
    "    adata_pl.obs['ct_cond'] = 'stub'\n",
    "    for i in range(adata.n_obs):\n",
    "        adata_pl.obs['ct_cond'][i] = adata.obs['cell_type_joint'][i] + '_' + adata.obs['condition_merged'][i]\n",
    "    query_typs = adata_pl[adata.obs.study == 'Kang'].obs.ct_cond.unique().tolist()\n",
    "    adata_pl_q = adata_pl[adata_pl.obs.ct_cond.isin(query_typs)]\n",
    "    sc.pl.stacked_violin(adata_pl_q, var_names=terms, groupby='ct_cond', swap_axes=True)"
   ]
  },
  {
   "cell_type": "code",
   "execution_count": null,
   "id": "japanese-textbook",
   "metadata": {},
   "outputs": [],
   "source": []
  }
 ],
 "metadata": {
  "kernelspec": {
   "display_name": ".venv",
   "language": "python",
   "name": "python3"
  },
  "language_info": {
   "codemirror_mode": {
    "name": "ipython",
    "version": 3
   },
   "file_extension": ".py",
   "mimetype": "text/x-python",
   "name": "python",
   "nbconvert_exporter": "python",
   "pygments_lexer": "ipython3",
   "version": "3.11.5"
  }
 },
 "nbformat": 4,
 "nbformat_minor": 5
}
