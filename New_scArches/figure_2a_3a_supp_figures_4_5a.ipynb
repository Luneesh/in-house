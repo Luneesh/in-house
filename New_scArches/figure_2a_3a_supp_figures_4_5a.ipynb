{
 "cells": [
  {
   "cell_type": "code",
   "execution_count": null,
   "id": "accompanied-neighborhood",
   "metadata": {},
   "outputs": [],
   "source": [
    "import scanpy as sc\n",
    "import numpy as np\n",
    "import matplotlib.pyplot as plt"
   ]
  },
  {
   "cell_type": "code",
   "execution_count": null,
   "id": "sunrise-peace",
   "metadata": {},
   "outputs": [],
   "source": [
    "sc.set_figure_params(vector_friendly=True)"
   ]
  },
  {
   "cell_type": "code",
   "execution_count": null,
   "id": "found-quick",
   "metadata": {},
   "outputs": [],
   "source": [
    "adata = sc.read('kang_pbmc_integrated.h5ad')"
   ]
  },
  {
   "cell_type": "code",
   "execution_count": null,
   "id": "fifteen-break",
   "metadata": {},
   "outputs": [],
   "source": [
    "adata.obs.batch_join = adata.obs.batch_join.astype(str)\n",
    "adata.obs.batch_join[adata.obs.batch_join=='0'] = 'PBMC (reference)'\n",
    "adata.obs.batch_join[adata.obs.batch_join=='1'] = 'Kang (query)'\n",
    "\n",
    "adata.obs['condition_joint'] = adata.obs.condition.astype(str)\n",
    "adata.obs['condition_joint'][adata.obs['condition_joint'].astype(str)=='nan']='control (reference)'\n",
    "adata.obs['condition_joint'][adata.obs['condition_joint']=='control']='control (query)'\n",
    "adata.obs['condition_joint'][adata.obs['condition_joint']=='stimulated']='stimulated (query)'"
   ]
  },
  {
   "cell_type": "code",
   "execution_count": null,
   "id": "sexual-danish",
   "metadata": {},
   "outputs": [],
   "source": [
    "sc.pp.neighbors(adata, use_rep='X_cvae')"
   ]
  },
  {
   "cell_type": "code",
   "execution_count": null,
   "id": "equivalent-character",
   "metadata": {},
   "outputs": [],
   "source": [
    "sc.tl.umap(adata)"
   ]
  },
  {
   "cell_type": "code",
   "execution_count": null,
   "id": "developing-carolina",
   "metadata": {},
   "outputs": [],
   "source": [
    "fig, axs = plt.subplots(2, 2)"
   ]
  },
  {
   "cell_type": "code",
   "execution_count": null,
   "id": "interested-railway",
   "metadata": {},
   "outputs": [],
   "source": [
    "sc.pl.umap(adata, color='study', \n",
    "           legend_fontsize='medium', size=22, frameon=False,\n",
    "           ax=axs[0,0])"
   ]
  },
  {
   "cell_type": "code",
   "execution_count": null,
   "id": "rising-anaheim",
   "metadata": {},
   "outputs": [],
   "source": [
    "sc.pl.umap(adata, color='condition_joint', title='Condition',\n",
    "           legend_fontsize='medium', size=22, frameon=False, palette=['steelblue', 'skyblue', 'red'],\n",
    "           ax=axs[0,1])"
   ]
  },
  {
   "cell_type": "code",
   "execution_count": null,
   "id": "pressing-headline",
   "metadata": {},
   "outputs": [],
   "source": [
    "sc.pl.umap(adata, color='cell_type_joint', title='Cell types', \n",
    "           legend_fontsize='medium', size=22, frameon=False,\n",
    "           ax=axs[1,0])"
   ]
  },
  {
   "cell_type": "code",
   "execution_count": null,
   "id": "packed-tourism",
   "metadata": {},
   "outputs": [],
   "source": [
    "axs[1,1].axis('off')"
   ]
  },
  {
   "cell_type": "code",
   "execution_count": null,
   "id": "innocent-marketing",
   "metadata": {},
   "outputs": [],
   "source": [
    "fig.set_size_inches(20, 14)"
   ]
  },
  {
   "cell_type": "code",
   "execution_count": null,
   "id": "textile-luther",
   "metadata": {},
   "outputs": [],
   "source": [
    "fig"
   ]
  },
  {
   "cell_type": "code",
   "execution_count": null,
   "id": "detected-tobacco",
   "metadata": {},
   "outputs": [],
   "source": [
    "fig.savefig('pbmc_kang_integration_expimap.png', bbox_inches = \"tight\")"
   ]
  },
  {
   "cell_type": "code",
   "execution_count": null,
   "id": "surface-think",
   "metadata": {},
   "outputs": [],
   "source": []
  }
 ],
 "metadata": {
  "kernelspec": {
   "display_name": "base",
   "language": "python",
   "name": "python3"
  },
  "language_info": {
   "codemirror_mode": {
    "name": "ipython",
    "version": 3
   },
   "file_extension": ".py",
   "mimetype": "text/x-python",
   "name": "python",
   "nbconvert_exporter": "python",
   "pygments_lexer": "ipython3",
   "version": "3.11.5"
  }
 },
 "nbformat": 4,
 "nbformat_minor": 5
}
